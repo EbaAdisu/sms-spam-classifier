{
 "cells": [
  {
   "cell_type": "markdown",
   "metadata": {},
   "source": [
    "# SMS Spam Classifier\n",
    "\n",
    "## Introduction\n",
    "This project focuses on building a machine learning model to classify SMS messages as spam or ham (non-spam). Using the SMS Spam Collection Dataset, we will explore various preprocessing techniques, extract relevant features, and implement classification algorithms to accurately detect spam messages. This classifier can help reduce unwanted messages and improve communication efficiency.\n",
    "\n",
    "## Objective\n",
    "The primary objective of this project is to:\n",
    "- Preprocess the SMS data for effective feature extraction.\n",
    "- Train machine learning models such as Naive Bayes and Logistic Regression.\n",
    "- Evaluate the model's performance in identifying spam messages.\n",
    "- Optimize the classifier to achieve high accuracy and low false-positive rates.\n"
   ]
  },
  {
   "cell_type": "markdown",
   "metadata": {},
   "source": [
    "## Required Packages\n",
    "\n",
    "To install the necessary packages for the project, run the following commands:\n"
   ]
  },
  {
   "cell_type": "code",
   "execution_count": 1,
   "metadata": {},
   "outputs": [],
   "source": [
    "# !pip install numpy\n",
    "# !pip install pandas\n",
    "# !pip install scikit-learn\n",
    "# !pip install matplotlib\n"
   ]
  },
  {
   "cell_type": "markdown",
   "metadata": {},
   "source": [
    "## Imports\n",
    "\n",
    "To use the necessary libraries for this project, include the following import statements at the beginning of your notebook:\n"
   ]
  },
  {
   "cell_type": "code",
   "execution_count": 2,
   "metadata": {},
   "outputs": [],
   "source": [
    "import numpy as np\n",
    "import pandas as pd\n",
    "from sklearn.naive_bayes import MultinomialNB\n",
    "from sklearn.metrics import accuracy_score, classification_report, confusion_matrix"
   ]
  },
  {
   "cell_type": "markdown",
   "metadata": {},
   "source": [
    "## Understanding the Data\n",
    "\n",
    "The dataset consists of SMS messages classified as either **ham** (non-spam) or **spam**. Each message is labeled with its category, followed by the message content. The data appears in a CSV format with the following structure:\n",
    "\n",
    "| Label | Message                                                        | ... |\n",
    "|-------|----------------------------------------------------------------|-----|\n",
    "| ham   | \"Go until jurong point, crazy.. Available only in bugis...\"   | ... |\n",
    "| ham   | \"Ok lar... Joking wif u oni...\"                                | ... |\n",
    "| spam  | \"Free entry in 2 a wkly comp to win FA Cup final tkts...\"     | ... |\n",
    "| ham   | \"U dun say so early hor... U c already then say...\"            | ... |\n",
    "| spam  | \"WINNER!! As a valued network customer you have been...\"       | ... |\n",
    "| ...   | ...                                                            | ... |\n",
    "\n",
    "### Columns\n",
    "- **Label**: Indicates whether the message is **ham** (not spam) or **spam**.\n",
    "- **Message**: The actual text of the SMS message.\n",
    "\n",
    "### Insights\n",
    "- The dataset contains a mixture of casual conversations and promotional messages.\n",
    "- Understanding the patterns in the message content will help us effectively classify them into spam and non-spam categories.\n"
   ]
  },
  {
   "cell_type": "markdown",
   "metadata": {},
   "source": [
    "## Step 1: Load the Data\n",
    "\n",
    "In this step, we will load the SMS Spam Collection Dataset using the `pandas` library. "
   ]
  },
  {
   "cell_type": "code",
   "execution_count": 3,
   "metadata": {},
   "outputs": [
    {
     "data": {
      "text/html": [
       "<div>\n",
       "<style scoped>\n",
       "    .dataframe tbody tr th:only-of-type {\n",
       "        vertical-align: middle;\n",
       "    }\n",
       "\n",
       "    .dataframe tbody tr th {\n",
       "        vertical-align: top;\n",
       "    }\n",
       "\n",
       "    .dataframe thead th {\n",
       "        text-align: right;\n",
       "    }\n",
       "</style>\n",
       "<table border=\"1\" class=\"dataframe\">\n",
       "  <thead>\n",
       "    <tr style=\"text-align: right;\">\n",
       "      <th></th>\n",
       "      <th>v1</th>\n",
       "      <th>v2</th>\n",
       "      <th>Unnamed: 2</th>\n",
       "      <th>Unnamed: 3</th>\n",
       "      <th>Unnamed: 4</th>\n",
       "    </tr>\n",
       "  </thead>\n",
       "  <tbody>\n",
       "    <tr>\n",
       "      <th>0</th>\n",
       "      <td>ham</td>\n",
       "      <td>Go until jurong point, crazy.. Available only ...</td>\n",
       "      <td>NaN</td>\n",
       "      <td>NaN</td>\n",
       "      <td>NaN</td>\n",
       "    </tr>\n",
       "    <tr>\n",
       "      <th>1</th>\n",
       "      <td>ham</td>\n",
       "      <td>Ok lar... Joking wif u oni...</td>\n",
       "      <td>NaN</td>\n",
       "      <td>NaN</td>\n",
       "      <td>NaN</td>\n",
       "    </tr>\n",
       "    <tr>\n",
       "      <th>2</th>\n",
       "      <td>spam</td>\n",
       "      <td>Free entry in 2 a wkly comp to win FA Cup fina...</td>\n",
       "      <td>NaN</td>\n",
       "      <td>NaN</td>\n",
       "      <td>NaN</td>\n",
       "    </tr>\n",
       "    <tr>\n",
       "      <th>3</th>\n",
       "      <td>ham</td>\n",
       "      <td>U dun say so early hor... U c already then say...</td>\n",
       "      <td>NaN</td>\n",
       "      <td>NaN</td>\n",
       "      <td>NaN</td>\n",
       "    </tr>\n",
       "    <tr>\n",
       "      <th>4</th>\n",
       "      <td>ham</td>\n",
       "      <td>Nah I don't think he goes to usf, he lives aro...</td>\n",
       "      <td>NaN</td>\n",
       "      <td>NaN</td>\n",
       "      <td>NaN</td>\n",
       "    </tr>\n",
       "  </tbody>\n",
       "</table>\n",
       "</div>"
      ],
      "text/plain": [
       "     v1                                                 v2 Unnamed: 2  \\\n",
       "0   ham  Go until jurong point, crazy.. Available only ...        NaN   \n",
       "1   ham                      Ok lar... Joking wif u oni...        NaN   \n",
       "2  spam  Free entry in 2 a wkly comp to win FA Cup fina...        NaN   \n",
       "3   ham  U dun say so early hor... U c already then say...        NaN   \n",
       "4   ham  Nah I don't think he goes to usf, he lives aro...        NaN   \n",
       "\n",
       "  Unnamed: 3 Unnamed: 4  \n",
       "0        NaN        NaN  \n",
       "1        NaN        NaN  \n",
       "2        NaN        NaN  \n",
       "3        NaN        NaN  \n",
       "4        NaN        NaN  "
      ]
     },
     "execution_count": 3,
     "metadata": {},
     "output_type": "execute_result"
    }
   ],
   "source": [
    "data = pd.read_csv('spam.csv', encoding='latin-1')\n",
    "\n",
    "data.head()"
   ]
  },
  {
   "cell_type": "markdown",
   "metadata": {},
   "source": [
    "### Step 2: Data Preprocessing\n",
    "\n",
    "In this step, we will preprocess the data to prepare it for analysis. This includes the following tasks:\n",
    "\n",
    "1. Removing unnecessary columns.\n",
    "2. Checking for and handling missing values.\n",
    "3. Normalizing the text by lowercasing and removing punctuation.\n",
    "\n"
   ]
  },
  {
   "cell_type": "code",
   "execution_count": 4,
   "metadata": {},
   "outputs": [
    {
     "name": "stdout",
     "output_type": "stream",
     "text": [
      "Missing values in each column:\n",
      " label      0\n",
      "message    0\n",
      "dtype: int64\n"
     ]
    },
    {
     "data": {
      "text/html": [
       "<div>\n",
       "<style scoped>\n",
       "    .dataframe tbody tr th:only-of-type {\n",
       "        vertical-align: middle;\n",
       "    }\n",
       "\n",
       "    .dataframe tbody tr th {\n",
       "        vertical-align: top;\n",
       "    }\n",
       "\n",
       "    .dataframe thead th {\n",
       "        text-align: right;\n",
       "    }\n",
       "</style>\n",
       "<table border=\"1\" class=\"dataframe\">\n",
       "  <thead>\n",
       "    <tr style=\"text-align: right;\">\n",
       "      <th></th>\n",
       "      <th>label</th>\n",
       "      <th>message</th>\n",
       "    </tr>\n",
       "  </thead>\n",
       "  <tbody>\n",
       "    <tr>\n",
       "      <th>0</th>\n",
       "      <td>ham</td>\n",
       "      <td>go until jurong point, crazy.. available only ...</td>\n",
       "    </tr>\n",
       "    <tr>\n",
       "      <th>1</th>\n",
       "      <td>ham</td>\n",
       "      <td>ok lar... joking wif u oni...</td>\n",
       "    </tr>\n",
       "    <tr>\n",
       "      <th>2</th>\n",
       "      <td>spam</td>\n",
       "      <td>free entry in 2 a wkly comp to win fa cup fina...</td>\n",
       "    </tr>\n",
       "    <tr>\n",
       "      <th>3</th>\n",
       "      <td>ham</td>\n",
       "      <td>u dun say so early hor... u c already then say...</td>\n",
       "    </tr>\n",
       "    <tr>\n",
       "      <th>4</th>\n",
       "      <td>ham</td>\n",
       "      <td>nah i don't think he goes to usf, he lives aro...</td>\n",
       "    </tr>\n",
       "  </tbody>\n",
       "</table>\n",
       "</div>"
      ],
      "text/plain": [
       "  label                                            message\n",
       "0   ham  go until jurong point, crazy.. available only ...\n",
       "1   ham                      ok lar... joking wif u oni...\n",
       "2  spam  free entry in 2 a wkly comp to win fa cup fina...\n",
       "3   ham  u dun say so early hor... u c already then say...\n",
       "4   ham  nah i don't think he goes to usf, he lives aro..."
      ]
     },
     "execution_count": 4,
     "metadata": {},
     "output_type": "execute_result"
    }
   ],
   "source": [
    "# Remove unnecessary columns\n",
    "data = data[['v1', 'v2']]  # Retaining only relevant columns\n",
    "\n",
    "# Rename the columns for easier access\n",
    "data.columns = ['label', 'message']\n",
    "\n",
    "# Check for missing values\n",
    "missing_values = data.isnull().sum()\n",
    "print(\"Missing values in each column:\\n\", missing_values)\n",
    "\n",
    "# Normalize the text (lowercase)\n",
    "data['message'] = data['message'].str.lower()\n",
    "\n",
    "# Display the first few rows after preprocessing\n",
    "data.head()"
   ]
  },
  {
   "cell_type": "markdown",
   "metadata": {},
   "source": [
    "### Step 3: Exploratory Data Analysis (EDA)\n",
    "\n",
    "In this step, we will analyze the data to understand the distribution of spam and ham messages. Specifically, we will:\n",
    "\n",
    "1. Count the number of spam and ham messages.\n",
    "2. Visualize this distribution using a bar chart.\n",
    "\n",
    "This will give us insights into the balance between the two classes in the dataset.\n"
   ]
  },
  {
   "cell_type": "code",
   "execution_count": 18,
   "metadata": {},
   "outputs": [
    {
     "name": "stdout",
     "output_type": "stream",
     "text": [
      "Label distribution:\n",
      " label\n",
      "ham     4825\n",
      "spam     747\n",
      "Name: count, dtype: int64\n"
     ]
    },
    {
     "data": {
      "image/png": "[encoded data removed]",
      "text/plain": [
       "<Figure size 600x400 with 1 Axes>"
      ]
     },
     "metadata": {},
     "output_type": "display_data"
    }
   ],
   "source": [
    "import matplotlib.pyplot as plt\n",
    "# Count the number of spam and ham messages\n",
    "label_counts = data['label'].value_counts()\n",
    "print(\"Label distribution:\\n\", label_counts)\n",
    "\n",
    "# Visualize the distribution using a bar chart\n",
    "\n",
    "plt.figure(figsize=(6, 4))\n",
    "label_counts.plot(kind='bar', color=['green', 'red'])\n",
    "plt.title('Distribution of Spam and Ham Messages')\n",
    "plt.xlabel('Label')\n",
    "plt.ylabel('Count')\n",
    "plt.xticks(rotation=0)\n",
    "plt.show()"
   ]
  },
  {
   "cell_type": "markdown",
   "metadata": {},
   "source": [
    "### Step 4: Feature Extraction\n",
    "\n",
    "In this step, we will convert the text messages into numerical features that can be used by machine learning models. We will use the `CountVectorizer` from `sklearn` to transform the SMS messages into a matrix of token counts. This process is essential for training our classification model.\n",
    "\n",
    "#### CountVectorizer\n",
    "\n",
    "`CountVectorizer` is a feature extraction technique provided by the `sklearn` library that converts a collection of text documents into a matrix of token counts. This transformation is crucial for preparing text data for machine learning models.\n",
    "\n",
    "##### Key Features of CountVectorizer:\n",
    "\n",
    "1. **Tokenization**: \n",
    "   - It splits the text into individual words or tokens. By default, it uses whitespace and punctuation as delimiters.\n",
    "\n",
    "2. **Count Representation**: \n",
    "   - For each unique token in the dataset, it counts how many times that token appears in each document (SMS message in this case). \n",
    "   - The output is a sparse matrix, where each row corresponds to a document and each column corresponds to a token.\n",
    "\n",
    "3. **Vocabulary Creation**: \n",
    "   - It builds a vocabulary of unique words found in the dataset, which helps in converting the text into a structured numerical format.\n",
    "\n",
    "4. **Handling of Stop Words**: \n",
    "   - You can configure `CountVectorizer` to ignore common words (stop words) that may not contribute significantly to the classification (like \"the\", \"is\", etc.).\n",
    "\n",
    "5. **N-grams**:\n",
    "   - It can also be set up to consider sequences of words (bigrams, trigrams, etc.) rather than just single words, allowing for more context in the features.\n",
    "\n",
    "##### Example:\n",
    "For example, if we have the following messages:\n",
    "- \"Hello world\"\n",
    "- \"Hello from the other side\"\n",
    "\n",
    "After applying `CountVectorizer`, we would get a matrix representation like this:\n",
    "\n",
    "|         | hello | world | from | the | other | side |\n",
    "|---------|-------|-------|------|-----|-------|------|\n",
    "| Message 1 | 1     | 1     | 0    | 0   | 0     | 0    |\n",
    "| Message 2 | 1     | 0     | 1    | 1   | 1     | 1    |\n",
    "\n",
    "This matrix can then be used as input for machine learning algorithms.\n"
   ]
  },
  {
   "cell_type": "code",
   "execution_count": 13,
   "metadata": {},
   "outputs": [
    {
     "name": "stdout",
     "output_type": "stream",
     "text": [
      "Shape of the feature matrix: (5572, 8672)\n"
     ]
    }
   ],
   "source": [
    "from sklearn.feature_extraction.text import CountVectorizer\n",
    "# Initialize the CountVectorizer\n",
    "vectorizer = CountVectorizer()\n",
    "\n",
    "# Fit and transform the message data\n",
    "X = vectorizer.fit_transform(data['message'])\n",
    "\n",
    "# Display the shape of the resulting feature matrix\n",
    "print(\"Shape of the feature matrix:\", X.shape)"
   ]
  },
  {
   "cell_type": "markdown",
   "metadata": {},
   "source": [
    "### Step 5: Split the Data\n",
    "\n",
    "In this step, we will divide our dataset into training and testing sets. This separation is essential to evaluate the performance of our machine learning model accurately. We'll use the `train_test_split` function from `sklearn.model_selection` to achieve this.\n",
    "\n"
   ]
  },
  {
   "cell_type": "code",
   "execution_count": 14,
   "metadata": {},
   "outputs": [
    {
     "name": "stdout",
     "output_type": "stream",
     "text": [
      "Training set size: 4457\n",
      "Testing set size: 1115\n"
     ]
    }
   ],
   "source": [
    "from sklearn.model_selection import train_test_split\n",
    "# we have deffined X before hand\n",
    "y = data['label']\n",
    "\n",
    "# Split the dataset into training and testing sets (80% train, 20% test)\n",
    "X_train, X_test, y_train, y_test = train_test_split(\n",
    "    X, y, test_size=0.2, random_state=42)\n",
    "\n",
    "# Display the size of the training and testing sets\n",
    "print(\"Training set size:\", X_train.shape[0])\n",
    "print(\"Testing set size:\", X_test.shape[0])"
   ]
  },
  {
   "cell_type": "markdown",
   "metadata": {},
   "source": [
    "### Visualizing Training and Testing Data Distribution\n",
    "\n",
    "In this section, we will visualize the distribution of spam and ham messages in both the training and testing datasets. This helps us understand if the datasets are balanced and whether the model will be trained effectively.\n",
    "\n",
    "We will use a bar chart to display the counts of spam and ham messages in each dataset.\n"
   ]
  },
  {
   "cell_type": "code",
   "execution_count": 15,
   "metadata": {},
   "outputs": [
    {
     "data": {
      "image/png": "[encoded data removed]",
      "text/plain": [
       "<Figure size 1200x600 with 2 Axes>"
      ]
     },
     "metadata": {},
     "output_type": "display_data"
    }
   ],
   "source": [
    "import matplotlib.pyplot as plt\n",
    "\n",
    "# Count the number of spam and ham messages in the training set\n",
    "train_counts = y_train.value_counts()\n",
    "\n",
    "# Count the number of spam and ham messages in the testing set\n",
    "test_counts = y_test.value_counts()\n",
    "\n",
    "# Plotting the counts\n",
    "plt.figure(figsize=(12, 6))\n",
    "\n",
    "# Plot for training data\n",
    "plt.subplot(1, 2, 1)\n",
    "train_counts.plot(kind='bar', color=['green', 'red'])\n",
    "plt.title('Training Data Distribution')\n",
    "plt.xlabel('Label')\n",
    "plt.ylabel('Count')\n",
    "plt.xticks(rotation=0)\n",
    "\n",
    "# Plot for testing data\n",
    "plt.subplot(1, 2, 2)\n",
    "test_counts.plot(kind='bar', color=['green', 'red'])\n",
    "plt.title('Testing Data Distribution')\n",
    "plt.xlabel('Label')\n",
    "plt.ylabel('Count')\n",
    "plt.xticks(rotation=0)\n",
    "\n",
    "plt.tight_layout()\n",
    "plt.show()"
   ]
  },
  {
   "cell_type": "markdown",
   "metadata": {},
   "source": [
    "### Step 6: Model Selection and Training\n",
    "\n",
    "In this section, we will train multiple machine learning models to classify SMS messages as \"spam\" or \"ham.\" We will evaluate the performance of each model to determine which one works best for our dataset.\n",
    "\n",
    "#### Models to be Trained:\n",
    "1. **Naive Bayes**: A probabilistic classifier based on Bayes' theorem, particularly effective for text classification.\n",
    "2. **Logistic Regression**: A linear model used for binary classification that estimates probabilities using the logistic function.\n",
    "3. **Support Vector Machine (SVM)**: A powerful classifier that works well for high-dimensional spaces.\n",
    "4. **Random Forest**: An ensemble learning method that builds multiple decision trees and merges them to improve classification accuracy.\n",
    "\n",
    "We will train each model on the training dataset and evaluate their accuracy on the test dataset.\n"
   ]
  },
  {
   "cell_type": "code",
   "execution_count": 16,
   "metadata": {},
   "outputs": [
    {
     "name": "stdout",
     "output_type": "stream",
     "text": [
      "Naive Bayes Accuracy: 0.9785\n",
      "Logistic Regression Accuracy: 0.9776\n",
      "Support Vector Machine Accuracy: 0.9785\n",
      "Random Forest Accuracy: 0.9767\n",
      "\n",
      "Model Accuracies:\n",
      "Naive Bayes: 0.9785\n",
      "Logistic Regression: 0.9776\n",
      "Support Vector Machine: 0.9785\n",
      "Random Forest: 0.9767\n"
     ]
    }
   ],
   "source": [
    "from sklearn.naive_bayes import MultinomialNB\n",
    "from sklearn.linear_model import LogisticRegression\n",
    "from sklearn.svm import SVC\n",
    "from sklearn.ensemble import RandomForestClassifier\n",
    "from sklearn.metrics import accuracy_score\n",
    "\n",
    "# List of models to train\n",
    "models = {\n",
    "    \"Naive Bayes\": MultinomialNB(),\n",
    "    \"Logistic Regression\": LogisticRegression(max_iter=1000),\n",
    "    \"Support Vector Machine\": SVC(),\n",
    "    \"Random Forest\": RandomForestClassifier()\n",
    "}\n",
    "\n",
    "# Dictionary to store the accuracy of each model\n",
    "model_accuracies = {}\n",
    "\n",
    "# Training and evaluating each model\n",
    "for model_name, model in models.items():\n",
    "    # Train the model\n",
    "    model.fit(X_train, y_train)\n",
    "\n",
    "    # Predict on the test set\n",
    "    y_pred = model.predict(X_test)\n",
    "\n",
    "    # Calculate accuracy\n",
    "    accuracy = accuracy_score(y_test, y_pred)\n",
    "    model_accuracies[model_name] = accuracy\n",
    "    print(f\"{model_name} Accuracy: {accuracy:.4f}\")\n",
    "\n",
    "# Display the accuracies of all models\n",
    "print(\"\\nModel Accuracies:\")\n",
    "for name, accuracy in model_accuracies.items():\n",
    "    print(f\"{name}: {accuracy:.4f}\")"
   ]
  },
  {
   "cell_type": "markdown",
   "metadata": {},
   "source": [
    "### Model Accuracy Comparison\n",
    "\n",
    "In this section, we compare the accuracies of different classification models used for spam detection. The following models were evaluated:\n",
    "\n",
    "1. **Naive Bayes**: Achieved an accuracy of **97.85%**. This model is typically effective for text classification tasks due to its simplicity and efficiency.\n",
    "\n",
    "2. **Logistic Regression**: Achieved an accuracy of **97.76%**. While this model is generally robust, it was slightly less accurate than the Naive Bayes and Support Vector Machine models in this instance.\n",
    "\n",
    "3. **Support Vector Machine (SVM)**: Also achieved an accuracy of **97.85%**, matching the performance of the Naive Bayes model. SVMs are known for their effectiveness in high-dimensional spaces, making them a good choice for text classification.\n",
    "\n",
    "4. **Random Forest**: Achieved an accuracy of **97.67%**, which is the lowest among the models tested. While Random Forests are powerful ensemble methods, they may not perform as well as simpler models for this particular dataset.\n",
    "\n",
    "### Summary of Model Accuracies:\n",
    "- **Naive Bayes**: 0.9785\n",
    "- **Logistic Regression**: 0.9776\n",
    "- **Support Vector Machine**: 0.9785\n",
    "- **Random Forest**: 0.9767\n",
    "\n",
    "### Conclusion\n",
    "The Naive Bayes and Support Vector Machine models outperformed the other algorithms in terms of accuracy for this spam classification task. Based on this comparison, either of these models could be chosen for deployment in a real-world application. Further tuning and testing may be beneficial to improve the performance of the Logistic Regression and Random Forest models.\n"
   ]
  },
  {
   "cell_type": "code",
   "execution_count": 17,
   "metadata": {},
   "outputs": [
    {
     "data": {
      "image/png": "[encoded data removed]",
      "text/plain": [
       "<Figure size 1000x600 with 1 Axes>"
      ]
     },
     "metadata": {},
     "output_type": "display_data"
    }
   ],
   "source": [
    "import matplotlib.pyplot as plt\n",
    "\n",
    "# Model accuracies\n",
    "model_names = ['Naive Bayes', 'Logistic Regression',\n",
    "               'Support Vector Machine', 'Random Forest']\n",
    "accuracies = [0.9785, 0.9776, 0.9785, 0.9767]\n",
    "\n",
    "# Plotting the accuracies\n",
    "plt.figure(figsize=(10, 6))\n",
    "plt.bar(model_names, accuracies, color=['blue', 'orange', 'green', 'red'])\n",
    "plt.ylim([0.95, 1.0])  # Limit y-axis for clarity\n",
    "plt.ylabel('Accuracy')\n",
    "plt.title('Model Accuracies for Spam Classification')\n",
    "plt.axhline(y=0.98, color='r', linestyle='--', label='Target Accuracy (98%)')\n",
    "plt.legend()\n",
    "plt.grid(axis='y')\n",
    "plt.show()"
   ]
  }
 ],
 "metadata": {
  "kernelspec": {
   "display_name": "Python 3",
   "language": "python",
   "name": "python3"
  },
  "language_info": {
   "codemirror_mode": {
    "name": "ipython",
    "version": 3
   },
   "file_extension": ".py",
   "mimetype": "text/x-python",
   "name": "python",
   "nbconvert_exporter": "python",
   "pygments_lexer": "ipython3",
   "version": "3.12.1"
  }
 },
 "nbformat": 4,
 "nbformat_minor": 2
}
